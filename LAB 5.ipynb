{
 "cells": [
  {
   "cell_type": "markdown",
   "id": "0cd4675e",
   "metadata": {},
   "source": [
    "# Count Vectorizer"
   ]
  },
  {
   "cell_type": "code",
   "execution_count": 1,
   "id": "8f63c586",
   "metadata": {},
   "outputs": [],
   "source": [
    "from sklearn.feature_extraction.text import CountVectorizer\n",
    "document1 = 'Dog hates a cat It loves to go out and play'\n",
    "document2 = 'Cat loves to play with a ball'"
   ]
  },
  {
   "cell_type": "code",
   "execution_count": 2,
   "id": "31137cc3",
   "metadata": {},
   "outputs": [],
   "source": [
    "# converting sentences to lower case\n",
    "document1 = document1.lower()\n",
    "document2 = document2.lower()"
   ]
  },
  {
   "cell_type": "code",
   "execution_count": 3,
   "id": "1d7ea0dc",
   "metadata": {},
   "outputs": [
    {
     "data": {
      "text/plain": [
       "CountVectorizer()"
      ]
     },
     "execution_count": 3,
     "metadata": {},
     "output_type": "execute_result"
    }
   ],
   "source": [
    "# Intialize BoWs\n",
    "count_vect = CountVectorizer()\n",
    "# fit the corpus to CountVectorizer\n",
    "count_vect.fit([document1, document2])"
   ]
  },
  {
   "cell_type": "code",
   "execution_count": 4,
   "id": "f6db51e8",
   "metadata": {},
   "outputs": [
    {
     "name": "stdout",
     "output_type": "stream",
     "text": [
      "feature names  ['and', 'ball', 'cat', 'dog', 'go', 'hates', 'it', 'loves', 'out', 'play', 'to', 'with']\n"
     ]
    }
   ],
   "source": [
    "print(\"feature names \", count_vect.get_feature_names())"
   ]
  },
  {
   "cell_type": "code",
   "execution_count": 5,
   "id": "3f0017fa",
   "metadata": {},
   "outputs": [
    {
     "name": "stdout",
     "output_type": "stream",
     "text": [
      "Representation of document1:  [[1 0 1 1 1 1 1 1 1 1 1 0]]\n"
     ]
    }
   ],
   "source": [
    "# bag of word representation of document1\n",
    "bow1 = count_vect.transform([document1])\n",
    "print(\"Representation of document1: \", bow1.toarray())"
   ]
  },
  {
   "cell_type": "code",
   "execution_count": 6,
   "id": "f1eaabae",
   "metadata": {},
   "outputs": [
    {
     "name": "stdout",
     "output_type": "stream",
     "text": [
      "Representation of document2:  [[0 1 1 0 0 0 0 1 0 1 1 1]]\n"
     ]
    }
   ],
   "source": [
    "# bag of word representation of document2\n",
    "bow2 = count_vect.transform([document2])\n",
    "print(\"Representation of document2: \", bow2.toarray())"
   ]
  },
  {
   "cell_type": "markdown",
   "id": "f66e5999",
   "metadata": {},
   "source": [
    "# TF-IDF Vectorizer"
   ]
  },
  {
   "cell_type": "code",
   "execution_count": 7,
   "id": "48434975",
   "metadata": {},
   "outputs": [],
   "source": [
    "from sklearn.feature_extraction.text import TfidfVectorizer\n",
    "document1 = 'Dog hates a cat It loves to go out and play'\n",
    "document2 = 'Cat loves to play with a ball'"
   ]
  },
  {
   "cell_type": "code",
   "execution_count": 8,
   "id": "59d09efb",
   "metadata": {},
   "outputs": [],
   "source": [
    "# converting sentences to lower case\n",
    "document1 = document1.lower()\n",
    "document2 = document2.lower()"
   ]
  },
  {
   "cell_type": "code",
   "execution_count": 9,
   "id": "e082826a",
   "metadata": {},
   "outputs": [
    {
     "data": {
      "text/plain": [
       "TfidfVectorizer()"
      ]
     },
     "execution_count": 9,
     "metadata": {},
     "output_type": "execute_result"
    }
   ],
   "source": [
    "# Intialize TfidfVectorizer\n",
    "tfidf_vect = TfidfVectorizer()\n",
    "# fit the corpus to TfidfVectorizer\n",
    "tfidf_vect.fit([document1, document2])"
   ]
  },
  {
   "cell_type": "code",
   "execution_count": 10,
   "id": "0ec4308f",
   "metadata": {},
   "outputs": [
    {
     "name": "stdout",
     "output_type": "stream",
     "text": [
      "feature names  ['and', 'ball', 'cat', 'dog', 'go', 'hates', 'it', 'loves', 'out', 'play', 'to', 'with']\n"
     ]
    }
   ],
   "source": [
    "print(\"feature names \", tfidf_vect.get_feature_names())"
   ]
  },
  {
   "cell_type": "code",
   "execution_count": 11,
   "id": "468a634d",
   "metadata": {},
   "outputs": [
    {
     "name": "stdout",
     "output_type": "stream",
     "text": [
      "Representation of document1:  [[0.35300279 0.         0.25116439 0.35300279 0.35300279 0.35300279\n",
      "  0.35300279 0.25116439 0.35300279 0.25116439 0.25116439 0.        ]]\n"
     ]
    }
   ],
   "source": [
    "# tf-idf representation of document1\n",
    "tfidf1 = tfidf_vect.transform([document1])\n",
    "print(\"Representation of document1: \", tfidf1.toarray())"
   ]
  },
  {
   "cell_type": "code",
   "execution_count": 12,
   "id": "ce70bd11",
   "metadata": {},
   "outputs": [
    {
     "name": "stdout",
     "output_type": "stream",
     "text": [
      "Representation of document2:  [[0.         0.49844628 0.35464863 0.         0.         0.\n",
      "  0.         0.35464863 0.         0.35464863 0.35464863 0.49844628]]\n"
     ]
    }
   ],
   "source": [
    "# tf-idf representation of document2\n",
    "tfidf2 = tfidf_vect.transform([document2])\n",
    "print(\"Representation of document2: \", tfidf2.toarray())"
   ]
  },
  {
   "cell_type": "markdown",
   "id": "2c5393d8",
   "metadata": {},
   "source": [
    "# N-gram Vectorizer(bi-gram)"
   ]
  },
  {
   "cell_type": "code",
   "execution_count": 13,
   "id": "9f427938",
   "metadata": {},
   "outputs": [
    {
     "data": {
      "text/plain": [
       "CountVectorizer(ngram_range=(1, 2))"
      ]
     },
     "execution_count": 13,
     "metadata": {},
     "output_type": "execute_result"
    }
   ],
   "source": [
    "# Intialize BoWs with ngram_range(2,2) i.e. bigram\n",
    "count_vect = CountVectorizer(ngram_range=(1, 2))\n",
    "# fit the corpus to CountVectorizer\n",
    "count_vect.fit([document1, document2])"
   ]
  },
  {
   "cell_type": "code",
   "execution_count": 14,
   "id": "cb263ed4",
   "metadata": {},
   "outputs": [
    {
     "name": "stdout",
     "output_type": "stream",
     "text": [
      "feature names  ['and', 'and play', 'ball', 'cat', 'cat it', 'cat loves', 'dog', 'dog hates', 'go', 'go out', 'hates', 'hates cat', 'it', 'it loves', 'loves', 'loves to', 'out', 'out and', 'play', 'play with', 'to', 'to go', 'to play', 'with', 'with ball']\n"
     ]
    }
   ],
   "source": [
    "print(\"feature names \", count_vect.get_feature_names())"
   ]
  },
  {
   "cell_type": "code",
   "execution_count": 15,
   "id": "f9cd73e1",
   "metadata": {},
   "outputs": [
    {
     "name": "stdout",
     "output_type": "stream",
     "text": [
      "Representation of document1:  [[1 1 0 1 1 0 1 1 1 1 1 1 1 1 1 1 1 1 1 0 1 1 0 0 0]]\n"
     ]
    }
   ],
   "source": [
    "# bag of word representation of document1\n",
    "bow1 = count_vect.transform([document1])\n",
    "print(\"Representation of document1: \", bow1.toarray())"
   ]
  },
  {
   "cell_type": "code",
   "execution_count": 16,
   "id": "bf6cb4de",
   "metadata": {},
   "outputs": [
    {
     "name": "stdout",
     "output_type": "stream",
     "text": [
      "Representation of document2:  [[0 0 1 1 0 1 0 0 0 0 0 0 0 0 1 1 0 0 1 1 1 0 1 1 1]]\n"
     ]
    }
   ],
   "source": [
    "# bag of word representation of document2\n",
    "bow2 = count_vect.transform([document2])\n",
    "print(\"Representation of document2: \", bow2.toarray())"
   ]
  },
  {
   "cell_type": "code",
   "execution_count": null,
   "id": "ac790406",
   "metadata": {},
   "outputs": [],
   "source": []
  }
 ],
 "metadata": {
  "kernelspec": {
   "display_name": "Python 3",
   "language": "python",
   "name": "python3"
  },
  "language_info": {
   "codemirror_mode": {
    "name": "ipython",
    "version": 3
   },
   "file_extension": ".py",
   "mimetype": "text/x-python",
   "name": "python",
   "nbconvert_exporter": "python",
   "pygments_lexer": "ipython3",
   "version": "3.7.0"
  }
 },
 "nbformat": 4,
 "nbformat_minor": 5
}
